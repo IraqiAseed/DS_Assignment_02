{
 "cells": [
  {
   "cell_type": "code",
   "execution_count": 2,
   "metadata": {},
   "outputs": [
    {
     "name": "stdout",
     "output_type": "stream",
     "text": [
      "Enter rectangle width 5\n",
      "Enter rectangle length 7\n",
      "The circumference of the rectangle is = 24\n"
     ]
    }
   ],
   "source": [
    "width = int(input(\"Enter rectangle width \"))\n",
    "length = int(input(\"Enter rectangle length \"))\n",
    "print(\"The circumference of the rectangle is = {}\".format( 2 * length + 2 * width ))"
   ]
  },
  {
   "cell_type": "code",
   "execution_count": null,
   "metadata": {},
   "outputs": [],
   "source": []
  }
 ],
 "metadata": {
  "kernelspec": {
   "display_name": "Python 3",
   "language": "python",
   "name": "python3"
  }
 },
 "nbformat": 4,
 "nbformat_minor": 4
}
